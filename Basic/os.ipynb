{
 "cells": [
  {
   "cell_type": "code",
   "execution_count": 9,
   "metadata": {},
   "outputs": [],
   "source": [
    "import glob"
   ]
  },
  {
   "cell_type": "code",
   "execution_count": 12,
   "metadata": {},
   "outputs": [
    {
     "name": "stdout",
     "output_type": "stream",
     "text": [
      "/Users/erik/Desktop/Myfile/os.ipynb\n"
     ]
    }
   ],
   "source": [
    "for file in glob.glob('/Users/erik/Desktop/Myfile/*.*'):\n",
    "    print(file)"
   ]
  },
  {
   "cell_type": "code",
   "execution_count": 13,
   "metadata": {
    "scrolled": true
   },
   "outputs": [
    {
     "name": "stdout",
     "output_type": "stream",
     "text": [
      "os.ipynb\n"
     ]
    }
   ],
   "source": [
    "for file in glob.glob('*.ipynb'):\n",
    "    print(file)"
   ]
  },
  {
   "cell_type": "code",
   "execution_count": 19,
   "metadata": {},
   "outputs": [],
   "source": [
    "for file in glob.glob('*.py'):\n",
    "    print(file)"
   ]
  },
  {
   "cell_type": "code",
   "execution_count": 2,
   "metadata": {},
   "outputs": [],
   "source": [
    "import os"
   ]
  },
  {
   "cell_type": "code",
   "execution_count": 14,
   "metadata": {
    "scrolled": true
   },
   "outputs": [
    {
     "name": "stdout",
     "output_type": "stream",
     "text": [
      "工作目錄名稱: /Users/erik/Desktop/\n",
      "子目錄名稱串列: ['Myfile']\n",
      "檔案名稱串列: ['.DS_Store', '.localized'] \n",
      "\n",
      "工作目錄名稱: /Users/erik/Desktop/Myfile\n",
      "子目錄名稱串列: ['.ipynb_checkpoints']\n",
      "檔案名稱串列: ['os.ipynb'] \n",
      "\n",
      "工作目錄名稱: /Users/erik/Desktop/Myfile/.ipynb_checkpoints\n",
      "子目錄名稱串列: []\n",
      "檔案名稱串列: ['os-checkpoint.ipynb'] \n",
      "\n"
     ]
    }
   ],
   "source": [
    "for dirName,sub_dirNames,fileNames in os.walk('/Users/erik/Desktop/'):\n",
    "    print('工作目錄名稱:',dirName)\n",
    "    print('子目錄名稱串列:',sub_dirNames)\n",
    "    print('檔案名稱串列:',fileNames,'\\n')"
   ]
  },
  {
   "cell_type": "code",
   "execution_count": null,
   "metadata": {},
   "outputs": [],
   "source": []
  }
 ],
 "metadata": {
  "kernelspec": {
   "display_name": "Python 3",
   "language": "python",
   "name": "python3"
  },
  "language_info": {
   "codemirror_mode": {
    "name": "ipython",
    "version": 3
   },
   "file_extension": ".py",
   "mimetype": "text/x-python",
   "name": "python",
   "nbconvert_exporter": "python",
   "pygments_lexer": "ipython3",
   "version": "3.7.4"
  }
 },
 "nbformat": 4,
 "nbformat_minor": 2
}
