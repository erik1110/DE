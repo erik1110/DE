{
 "cells": [
  {
   "cell_type": "markdown",
   "metadata": {},
   "source": [
    "### 1.應用自己建立的 Module"
   ]
  },
  {
   "cell_type": "code",
   "execution_count": 1,
   "metadata": {},
   "outputs": [],
   "source": [
    "import makefood"
   ]
  },
  {
   "cell_type": "code",
   "execution_count": 3,
   "metadata": {
    "scrolled": true
   },
   "outputs": [
    {
     "name": "stdout",
     "output_type": "stream",
     "text": [
      "The topping of the ice cream :\n",
      "--- Mango\n",
      "--- Strawberry\n",
      "Your drink :\n",
      "--- Large\n",
      "--- Milk\n"
     ]
    }
   ],
   "source": [
    "makefood.make_icecream(\"Mango\",\"Strawberry\")\n",
    "makefood.make_drink(\"Large\",\"Milk\")"
   ]
  },
  {
   "cell_type": "code",
   "execution_count": 4,
   "metadata": {},
   "outputs": [
    {
     "name": "stdout",
     "output_type": "stream",
     "text": [
      "The topping of the ice cream :\n",
      "--- Chocolate\n",
      "--- Sugar\n",
      "--- Grapes\n"
     ]
    }
   ],
   "source": [
    "from makefood import make_icecream\n",
    "make_icecream(\"Chocolate\",'Sugar',\"Grapes\")"
   ]
  },
  {
   "cell_type": "code",
   "execution_count": 6,
   "metadata": {},
   "outputs": [],
   "source": [
    "#導入所有函數\n",
    "from makefood import *"
   ]
  },
  {
   "cell_type": "markdown",
   "metadata": {},
   "source": [
    "### 2.將自建的類別存在 Module"
   ]
  },
  {
   "cell_type": "code",
   "execution_count": 8,
   "metadata": {},
   "outputs": [
    {
     "name": "stdout",
     "output_type": "stream",
     "text": [
      "Jame's bank = Taipei Bank\n",
      "Ken's bank = Taipei Bank - Daan Branch\n"
     ]
    }
   ],
   "source": [
    "from banks import Banks\n",
    "from banks import Daan_Banks\n",
    "\n",
    "jamebank=Banks('James')\n",
    "print(\"Jame's bank =\",jamebank.bank_title())\n",
    "\n",
    "kenbank=Daan_Banks('Ken')\n",
    "print(\"Ken's bank =\",kenbank.bank_title())"
   ]
  },
  {
   "cell_type": "code",
   "execution_count": 9,
   "metadata": {},
   "outputs": [
    {
     "name": "stdout",
     "output_type": "stream",
     "text": [
      "James has 0\n",
      "Saving 100000 has completed.\n",
      "James has 100000\n"
     ]
    }
   ],
   "source": [
    "jamebank.get_balance()\n",
    "jamebank.save_money(100000)\n",
    "jamebank.get_balance()\n"
   ]
  },
  {
   "cell_type": "code",
   "execution_count": 12,
   "metadata": {
    "scrolled": true
   },
   "outputs": [
    {
     "name": "stdout",
     "output_type": "stream",
     "text": [
      "Color: rgba(85, 85, 85, 1)\n",
      "Size: 12px\n",
      "Color: rgba(85, 85, 85, 1)\n",
      "Size: 12px\n",
      "Color: rgba(85, 85, 85, 1)\n",
      "Size: 12px\n",
      "Color: rgba(85, 85, 85, 1)\n",
      "Size: 12px\n",
      "Color: rgba(85, 85, 85, 1)\n",
      "Size: 12px\n",
      "Color: rgba(85, 85, 85, 1)\n",
      "Size: 12px\n",
      "Color: rgba(85, 85, 85, 1)\n",
      "Size: 12px\n",
      "Color: rgba(85, 85, 85, 1)\n",
      "Size: 12px\n",
      "Color: rgba(85, 85, 85, 1)\n",
      "Size: 12px\n",
      "Color: rgba(85, 85, 85, 1)\n",
      "Size: 12px\n",
      "Color: rgba(85, 85, 85, 1)\n",
      "Size: 12px\n",
      "Color: rgba(85, 85, 85, 1)\n",
      "Size: 12px\n"
     ]
    },
    {
     "data": {
      "text/plain": [
       "['你的腳底有磁鐵吧！為什麼貓貓總是能安全落地？ (Why a cat always lands on its feet)',\n",
       " '我們都被媒體控制了！淺談大眾媒體組織與文化 (Mass media | Society and Culture | MCAT | Khan Academy)',\n",
       " '揭開洋流的神秘面紗 (How do ocean currents work? - Jennifer Verduin)',\n",
       " '想考好雅思，一定要做到這些事！ (The Best Way to Prepare for Your IELTS Test)',\n",
       " \"搭飛機好麻煩？這座航廈讓你不再困擾 (Inside America's First Private Terminal For Millionaires)\",\n",
       " '如何自律過生活？餅乾怪示範給你看！ (Cookie Monster Practices Self-Regulation | Life Kit Parenting | NPR)',\n",
       " '曖昧不清！有另一半還能與異性當好朋友嗎？ (Can you have OPPOSITE SEX friendships while in a healthy relationship?)',\n",
       " '我相信自己不比別人聰明，所以我加倍努力找到了天命 (How to Find Your Talent | Tom Bilyeu | Goalcast)',\n",
       " '獨家大解密！Supreme 到底在貴什麼！？ (Why Supreme Is So Expensive | So Expensive)',\n",
       " '走訪荷蘭：世界上最美的鬱金香花園！ (Why The Netherlands Is The Tulip Capital Of The World)',\n",
       " '【歷史小學堂】看魔法般的電影如何影響全世界 (Movies are Magic: Crash Course Film History #1)',\n",
       " '【TED】邁克爾比魯特: 倫敦地鐵地圖的天才構想 (The genius of the London Tube Map | Small Thing Big Idea, a TED series)']"
      ]
     },
     "execution_count": 12,
     "metadata": {},
     "output_type": "execute_result"
    }
   ],
   "source": [
    "from voicetube import login\n",
    "login()"
   ]
  },
  {
   "cell_type": "code",
   "execution_count": null,
   "metadata": {},
   "outputs": [],
   "source": []
  },
  {
   "cell_type": "code",
   "execution_count": null,
   "metadata": {},
   "outputs": [],
   "source": []
  }
 ],
 "metadata": {
  "kernelspec": {
   "display_name": "Python 3",
   "language": "python",
   "name": "python3"
  },
  "language_info": {
   "codemirror_mode": {
    "name": "ipython",
    "version": 3
   },
   "file_extension": ".py",
   "mimetype": "text/x-python",
   "name": "python",
   "nbconvert_exporter": "python",
   "pygments_lexer": "ipython3",
   "version": "3.6.7"
  }
 },
 "nbformat": 4,
 "nbformat_minor": 2
}
