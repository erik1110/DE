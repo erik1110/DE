{
 "cells": [
  {
   "cell_type": "markdown",
   "metadata": {},
   "source": [
    "## 程式異常"
   ]
  },
  {
   "cell_type": "markdown",
   "metadata": {},
   "source": [
    "### try-except-else"
   ]
  },
  {
   "cell_type": "code",
   "execution_count": 1,
   "metadata": {},
   "outputs": [],
   "source": [
    "import numpy as np"
   ]
  },
  {
   "cell_type": "code",
   "execution_count": 2,
   "metadata": {
    "scrolled": true
   },
   "outputs": [
    {
     "name": "stdout",
     "output_type": "stream",
     "text": [
      "5.0\n"
     ]
    },
    {
     "ename": "ZeroDivisionError",
     "evalue": "division by zero",
     "output_type": "error",
     "traceback": [
      "\u001b[0;31m---------------------------------------------------------------------------\u001b[0m",
      "\u001b[0;31mZeroDivisionError\u001b[0m                         Traceback (most recent call last)",
      "\u001b[0;32m<ipython-input-2-da1b4f7d85e4>\u001b[0m in \u001b[0;36m<module>\u001b[0;34m()\u001b[0m\n\u001b[1;32m      2\u001b[0m     \u001b[0;32mreturn\u001b[0m \u001b[0mx\u001b[0m\u001b[0;34m/\u001b[0m\u001b[0my\u001b[0m\u001b[0;34m\u001b[0m\u001b[0m\n\u001b[1;32m      3\u001b[0m \u001b[0mprint\u001b[0m\u001b[0;34m(\u001b[0m\u001b[0mdivision\u001b[0m\u001b[0;34m(\u001b[0m\u001b[0;36m10\u001b[0m\u001b[0;34m,\u001b[0m\u001b[0;36m2\u001b[0m\u001b[0;34m)\u001b[0m\u001b[0;34m)\u001b[0m\u001b[0;34m\u001b[0m\u001b[0m\n\u001b[0;32m----> 4\u001b[0;31m \u001b[0mprint\u001b[0m\u001b[0;34m(\u001b[0m\u001b[0mdivision\u001b[0m\u001b[0;34m(\u001b[0m\u001b[0;36m10\u001b[0m\u001b[0;34m,\u001b[0m\u001b[0;36m0\u001b[0m\u001b[0;34m)\u001b[0m\u001b[0;34m)\u001b[0m\u001b[0;34m\u001b[0m\u001b[0m\n\u001b[0m\u001b[1;32m      5\u001b[0m \u001b[0mprint\u001b[0m\u001b[0;34m(\u001b[0m\u001b[0mdivision\u001b[0m\u001b[0;34m(\u001b[0m\u001b[0;36m1\u001b[0m\u001b[0;34m,\u001b[0m\u001b[0;36m2\u001b[0m\u001b[0;34m)\u001b[0m\u001b[0;34m)\u001b[0m\u001b[0;34m\u001b[0m\u001b[0m\n",
      "\u001b[0;32m<ipython-input-2-da1b4f7d85e4>\u001b[0m in \u001b[0;36mdivision\u001b[0;34m(x, y)\u001b[0m\n\u001b[1;32m      1\u001b[0m \u001b[0;32mdef\u001b[0m \u001b[0mdivision\u001b[0m\u001b[0;34m(\u001b[0m\u001b[0mx\u001b[0m\u001b[0;34m,\u001b[0m\u001b[0my\u001b[0m\u001b[0;34m)\u001b[0m\u001b[0;34m:\u001b[0m\u001b[0;34m\u001b[0m\u001b[0m\n\u001b[0;32m----> 2\u001b[0;31m     \u001b[0;32mreturn\u001b[0m \u001b[0mx\u001b[0m\u001b[0;34m/\u001b[0m\u001b[0my\u001b[0m\u001b[0;34m\u001b[0m\u001b[0m\n\u001b[0m\u001b[1;32m      3\u001b[0m \u001b[0mprint\u001b[0m\u001b[0;34m(\u001b[0m\u001b[0mdivision\u001b[0m\u001b[0;34m(\u001b[0m\u001b[0;36m10\u001b[0m\u001b[0;34m,\u001b[0m\u001b[0;36m2\u001b[0m\u001b[0;34m)\u001b[0m\u001b[0;34m)\u001b[0m\u001b[0;34m\u001b[0m\u001b[0m\n\u001b[1;32m      4\u001b[0m \u001b[0mprint\u001b[0m\u001b[0;34m(\u001b[0m\u001b[0mdivision\u001b[0m\u001b[0;34m(\u001b[0m\u001b[0;36m10\u001b[0m\u001b[0;34m,\u001b[0m\u001b[0;36m0\u001b[0m\u001b[0;34m)\u001b[0m\u001b[0;34m)\u001b[0m\u001b[0;34m\u001b[0m\u001b[0m\n\u001b[1;32m      5\u001b[0m \u001b[0mprint\u001b[0m\u001b[0;34m(\u001b[0m\u001b[0mdivision\u001b[0m\u001b[0;34m(\u001b[0m\u001b[0;36m1\u001b[0m\u001b[0;34m,\u001b[0m\u001b[0;36m2\u001b[0m\u001b[0;34m)\u001b[0m\u001b[0;34m)\u001b[0m\u001b[0;34m\u001b[0m\u001b[0m\n",
      "\u001b[0;31mZeroDivisionError\u001b[0m: division by zero"
     ]
    }
   ],
   "source": [
    "def division(x,y):\n",
    "    return x/y\n",
    "print(division(10,2))\n",
    "print(division(10,0))\n",
    "print(division(1,2))"
   ]
  },
  {
   "cell_type": "code",
   "execution_count": 2,
   "metadata": {
    "scrolled": true
   },
   "outputs": [
    {
     "name": "stdout",
     "output_type": "stream",
     "text": [
      "5.0\n",
      "除數不可為0\n",
      "None\n",
      "0.5\n"
     ]
    }
   ],
   "source": [
    "def division(x,y):\n",
    "    try:\n",
    "        return x/y\n",
    "    except ZeroDivisionError:\n",
    "        print('除數不可為0')\n",
    "print(division(10,2))\n",
    "print(division(10,0))\n",
    "print(division(1,2))"
   ]
  },
  {
   "cell_type": "code",
   "execution_count": 3,
   "metadata": {
    "scrolled": true
   },
   "outputs": [
    {
     "name": "stdout",
     "output_type": "stream",
     "text": [
      "5.0\n",
      "division by zero\n",
      "None\n",
      "0.5\n"
     ]
    }
   ],
   "source": [
    "def division(x,y):\n",
    "    try:\n",
    "        ans=x/y\n",
    "    except ZeroDivisionError as e:\n",
    "        print(e)\n",
    "    else:\n",
    "        return ans\n",
    "print(division(10,2))\n",
    "print(division(10,0))\n",
    "print(division(1,2))"
   ]
  },
  {
   "cell_type": "markdown",
   "metadata": {},
   "source": [
    "### 設計捕捉多個異常"
   ]
  },
  {
   "cell_type": "code",
   "execution_count": 21,
   "metadata": {},
   "outputs": [],
   "source": [
    "def division(x,y):\n",
    "    try:\n",
    "        ans=x/y\n",
    "    except ZeroDivisionError:\n",
    "        print('除數為0')\n",
    "    except TypeError:\n",
    "        print('使用字元')\n",
    "    else:\n",
    "        return ans"
   ]
  },
  {
   "cell_type": "code",
   "execution_count": 22,
   "metadata": {},
   "outputs": [
    {
     "name": "stdout",
     "output_type": "stream",
     "text": [
      "5.0\n",
      "除數為0\n",
      "None\n",
      "使用字元\n",
      "None\n"
     ]
    }
   ],
   "source": [
    "print(division(10,2))\n",
    "print(division(5,0))\n",
    "print(division('a','b'))"
   ]
  },
  {
   "cell_type": "code",
   "execution_count": 23,
   "metadata": {},
   "outputs": [],
   "source": [
    "def division(x,y):\n",
    "    try:\n",
    "        ans=x/y\n",
    "    except (ZeroDivisionError,TypeError):\n",
    "        print('除數為0或使用字元')\n",
    "    else:\n",
    "        return ans"
   ]
  },
  {
   "cell_type": "code",
   "execution_count": 24,
   "metadata": {
    "scrolled": true
   },
   "outputs": [
    {
     "name": "stdout",
     "output_type": "stream",
     "text": [
      "5.0\n",
      "除數為0或使用字元\n",
      "None\n",
      "除數為0或使用字元\n",
      "None\n"
     ]
    }
   ],
   "source": [
    "print(division(10,2))\n",
    "print(division(5,0))\n",
    "print(division('a','b'))"
   ]
  },
  {
   "cell_type": "code",
   "execution_count": 25,
   "metadata": {},
   "outputs": [],
   "source": [
    "#內建的錯誤訊息\n",
    "def division(x,y):\n",
    "    try:\n",
    "        ans=x/y\n",
    "    except ZeroDivisionError as e1:\n",
    "        print(e1)\n",
    "    except TypeError as e2:\n",
    "        print(e2)\n",
    "    else:\n",
    "        return ans"
   ]
  },
  {
   "cell_type": "code",
   "execution_count": 26,
   "metadata": {},
   "outputs": [
    {
     "name": "stdout",
     "output_type": "stream",
     "text": [
      "5.0\n",
      "division by zero\n",
      "None\n",
      "unsupported operand type(s) for /: 'str' and 'str'\n",
      "None\n"
     ]
    }
   ],
   "source": [
    "print(division(10,2))\n",
    "print(division(5,0))\n",
    "print(division('a','b'))"
   ]
  },
  {
   "cell_type": "markdown",
   "metadata": {},
   "source": [
    "### 自定義異常訊息"
   ]
  },
  {
   "cell_type": "code",
   "execution_count": 29,
   "metadata": {
    "scrolled": true
   },
   "outputs": [
    {
     "name": "stdout",
     "output_type": "stream",
     "text": [
      "請輸入密碼123456789\n",
      "密碼長度檢查： 密碼長度太長\n"
     ]
    }
   ],
   "source": [
    "def password(pwd):\n",
    "    '''檢查密碼長度必須是5到8個字元'''\n",
    "    pwdlen=len(pwd)\n",
    "    if pwdlen<5:\n",
    "        raise Exception('密碼長度不足')\n",
    "    elif pwdlen>8:\n",
    "        raise Exception('密碼長度太長')\n",
    "    else:\n",
    "        print('密碼長度正確')\n",
    "pwd=input('請輸入密碼')\n",
    "try:\n",
    "    password(pwd)\n",
    "except Exception as err:\n",
    "    print('密碼長度檢查：',str(err))"
   ]
  },
  {
   "cell_type": "markdown",
   "metadata": {},
   "source": [
    "### 紀錄 Traceback 字串"
   ]
  },
  {
   "cell_type": "code",
   "execution_count": 30,
   "metadata": {},
   "outputs": [
    {
     "name": "stdout",
     "output_type": "stream",
     "text": [
      "請輸入密碼123\n",
      "將 Traceback 寫入錯誤檔案 error.txt 完成\n",
      "密碼長度檢查： 密碼長度不足\n"
     ]
    }
   ],
   "source": [
    "import traceback\n",
    "\n",
    "def password(pwd):\n",
    "    '''檢查密碼長度必須是5到8個字元'''\n",
    "    pwdlen=len(pwd)\n",
    "    if pwdlen<5:\n",
    "        raise Exception('密碼長度不足')\n",
    "    elif pwdlen>8:\n",
    "        raise Exception('密碼長度太長')\n",
    "    else:\n",
    "        print('密碼長度正確')\n",
    "pwd=input('請輸入密碼')\n",
    "try:\n",
    "    password(pwd)\n",
    "except Exception as err:\n",
    "    errlog=open('error.txt','a')\n",
    "    errlog.write(traceback.format_exc())\n",
    "    errlog.close()\n",
    "    print('將 Traceback 寫入錯誤檔案 error.txt 完成')\n",
    "    print('密碼長度檢查：',str(err))"
   ]
  },
  {
   "cell_type": "markdown",
   "metadata": {},
   "source": [
    "### finally"
   ]
  },
  {
   "cell_type": "markdown",
   "metadata": {},
   "source": [
    "finally 放在 except 和 else 之後，同時不論是否有異常一定會執行 finally 這一行程式碼"
   ]
  },
  {
   "cell_type": "markdown",
   "metadata": {},
   "source": [
    "### assert"
   ]
  },
  {
   "cell_type": "markdown",
   "metadata": {},
   "source": [
    "assert 斷言\n",
    "若條件True,則繼續執行下一段\n",
    "若條件False,則將右邊字串輸出至Traceback"
   ]
  },
  {
   "cell_type": "code",
   "execution_count": 31,
   "metadata": {},
   "outputs": [
    {
     "name": "stdout",
     "output_type": "stream",
     "text": [
      "Erik 目前餘額 1000\n",
      "存款 300 完成\n",
      "Erik 目前餘額 1300\n"
     ]
    },
    {
     "ename": "AssertionError",
     "evalue": "存款金額必須大於０",
     "output_type": "error",
     "traceback": [
      "\u001b[0;31m---------------------------------------------------------------------------\u001b[0m",
      "\u001b[0;31mAssertionError\u001b[0m                            Traceback (most recent call last)",
      "\u001b[0;32m<ipython-input-31-88bdb1f8ce6b>\u001b[0m in \u001b[0;36m<module>\u001b[0;34m()\u001b[0m\n\u001b[1;32m     23\u001b[0m \u001b[0merik\u001b[0m\u001b[0;34m.\u001b[0m\u001b[0msave_money\u001b[0m\u001b[0;34m(\u001b[0m\u001b[0;36m300\u001b[0m\u001b[0;34m)\u001b[0m\u001b[0;34m\u001b[0m\u001b[0m\n\u001b[1;32m     24\u001b[0m \u001b[0merik\u001b[0m\u001b[0;34m.\u001b[0m\u001b[0mget_balance\u001b[0m\u001b[0;34m(\u001b[0m\u001b[0;34m)\u001b[0m\u001b[0;34m\u001b[0m\u001b[0m\n\u001b[0;32m---> 25\u001b[0;31m \u001b[0merik\u001b[0m\u001b[0;34m.\u001b[0m\u001b[0msave_money\u001b[0m\u001b[0;34m(\u001b[0m\u001b[0;34m-\u001b[0m\u001b[0;36m300\u001b[0m\u001b[0;34m)\u001b[0m\u001b[0;34m\u001b[0m\u001b[0m\n\u001b[0m\u001b[1;32m     26\u001b[0m \u001b[0merik\u001b[0m\u001b[0;34m.\u001b[0m\u001b[0mget_balance\u001b[0m\u001b[0;34m(\u001b[0m\u001b[0;34m)\u001b[0m\u001b[0;34m\u001b[0m\u001b[0m\n",
      "\u001b[0;32m<ipython-input-31-88bdb1f8ce6b>\u001b[0m in \u001b[0;36msave_money\u001b[0;34m(self, money)\u001b[0m\n\u001b[1;32m      6\u001b[0m \u001b[0;34m\u001b[0m\u001b[0m\n\u001b[1;32m      7\u001b[0m     \u001b[0;32mdef\u001b[0m \u001b[0msave_money\u001b[0m\u001b[0;34m(\u001b[0m\u001b[0mself\u001b[0m\u001b[0;34m,\u001b[0m\u001b[0mmoney\u001b[0m\u001b[0;34m)\u001b[0m\u001b[0;34m:\u001b[0m\u001b[0;34m\u001b[0m\u001b[0m\n\u001b[0;32m----> 8\u001b[0;31m         \u001b[0;32massert\u001b[0m \u001b[0mmoney\u001b[0m\u001b[0;34m>\u001b[0m\u001b[0;36m0\u001b[0m\u001b[0;34m,\u001b[0m\u001b[0;34m'存款金額必須大於０'\u001b[0m\u001b[0;34m\u001b[0m\u001b[0m\n\u001b[0m\u001b[1;32m      9\u001b[0m         \u001b[0mself\u001b[0m\u001b[0;34m.\u001b[0m\u001b[0mbalance\u001b[0m\u001b[0;34m+=\u001b[0m\u001b[0mmoney\u001b[0m\u001b[0;34m\u001b[0m\u001b[0m\n\u001b[1;32m     10\u001b[0m         \u001b[0mprint\u001b[0m\u001b[0;34m(\u001b[0m\u001b[0;34m'存款'\u001b[0m\u001b[0;34m,\u001b[0m\u001b[0mmoney\u001b[0m\u001b[0;34m,\u001b[0m\u001b[0;34m'完成'\u001b[0m\u001b[0;34m)\u001b[0m\u001b[0;34m\u001b[0m\u001b[0m\n",
      "\u001b[0;31mAssertionError\u001b[0m: 存款金額必須大於０"
     ]
    }
   ],
   "source": [
    "class Banks():\n",
    "    title='Taiwan Bank'\n",
    "    def __init__(self,user,money):\n",
    "        self.name=user\n",
    "        self.balance=money\n",
    "    \n",
    "    def save_money(self,money):\n",
    "        assert money>0,'存款金額必須大於０'\n",
    "        self.balance+=money\n",
    "        print('存款',money,'完成')\n",
    "    \n",
    "    def withdraw_money(self,money):\n",
    "        assert money>0,'提款金額必須大於0'\n",
    "        assert money<=self.balance,'存款金額不足'\n",
    "        self.balance-=money\n",
    "        print('提款',money,'完成')\n",
    "    \n",
    "    def get_balance(self):\n",
    "        print(self.name.title(),'目前餘額',self.balance)\n",
    "\n",
    "erik=Banks('Erik',1000)\n",
    "erik.get_balance()\n",
    "erik.save_money(300)\n",
    "erik.get_balance()\n",
    "erik.save_money(-300)\n",
    "erik.get_balance()"
   ]
  },
  {
   "cell_type": "markdown",
   "metadata": {},
   "source": [
    "### logging"
   ]
  },
  {
   "cell_type": "code",
   "execution_count": 2,
   "metadata": {},
   "outputs": [
    {
     "name": "stderr",
     "output_type": "stream",
     "text": [
      "ERROR:root:logging msg,ERROR\n",
      "CRITICAL:root:logging msg,CRITICAL\n"
     ]
    }
   ],
   "source": [
    "import logging\n",
    "#先定義顯示資訊的等級\n",
    "logging.basicConfig(level=logging.DEBUG)\n",
    "logging.debug('logging msg,DEBUG')\n",
    "logging.info('logging msg,INFO')\n",
    "logging.warning('logging msg,WARNING')\n",
    "logging.error('logging msg,ERROR')\n",
    "logging.critical('logging msg,CRITICAL')"
   ]
  },
  {
   "cell_type": "code",
   "execution_count": 1,
   "metadata": {},
   "outputs": [
    {
     "name": "stderr",
     "output_type": "stream",
     "text": [
      "2019-05-15 00:33:53,792  <ipython-input-1-b32cdc45752c> : ERROR  logging msg,ERROR\n",
      "2019-05-15 00:33:53,794  <ipython-input-1-b32cdc45752c> : CRITICAL  logging msg,CRITICAL\n"
     ]
    }
   ],
   "source": [
    "import logging\n",
    "#先定義顯示資訊的等級\n",
    "logging.basicConfig(level=logging.ERROR,format='%(asctime)s  %(filename)s : %(levelname)s  %(message)s')\n",
    "logging.debug('logging msg,DEBUG')\n",
    "logging.info('logging msg,INFO')\n",
    "logging.warning('logging msg,WARNING')\n",
    "logging.error('logging msg,ERROR')\n",
    "logging.critical('logging msg,CRITICAL')"
   ]
  },
  {
   "cell_type": "code",
   "execution_count": 2,
   "metadata": {},
   "outputs": [
    {
     "name": "stderr",
     "output_type": "stream",
     "text": [
      "2019-05-15 00:33:54,225  <ipython-input-2-c18508021d8c> : ERROR  This is an error message\n",
      "2019-05-15 00:33:54,227  <ipython-input-2-c18508021d8c> : CRITICAL  This is a critical message\n"
     ]
    }
   ],
   "source": [
    "import logging\n",
    "\n",
    "logging.basicConfig()\n",
    "logging.debug('This is a debug message')\n",
    "logging.info('This is an info message')\n",
    "logging.warning('This is a warning message')\n",
    "logging.error('This is an error message')\n",
    "logging.critical('This is a critical message')"
   ]
  },
  {
   "cell_type": "code",
   "execution_count": null,
   "metadata": {},
   "outputs": [],
   "source": []
  }
 ],
 "metadata": {
  "kernelspec": {
   "display_name": "Python 3",
   "language": "python",
   "name": "python3"
  },
  "language_info": {
   "codemirror_mode": {
    "name": "ipython",
    "version": 3
   },
   "file_extension": ".py",
   "mimetype": "text/x-python",
   "name": "python",
   "nbconvert_exporter": "python",
   "pygments_lexer": "ipython3",
   "version": "3.6.5"
  }
 },
 "nbformat": 4,
 "nbformat_minor": 2
}
