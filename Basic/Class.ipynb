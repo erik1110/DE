{
 "cells": [
  {
   "cell_type": "markdown",
   "metadata": {},
   "source": [
    "## 1.定義及使用"
   ]
  },
  {
   "cell_type": "markdown",
   "metadata": {},
   "source": [
    "Banks是類別名稱\n",
    "分別定義屬性(attribute)、方法(method)"
   ]
  },
  {
   "cell_type": "code",
   "execution_count": 1,
   "metadata": {},
   "outputs": [],
   "source": [
    "class Banks():\n",
    "    #Define Bank Class\n",
    "    title='Taipei Bank'             #attribute\n",
    "    def slogan(self):\n",
    "        return 'Customer First'  #method"
   ]
  },
  {
   "cell_type": "markdown",
   "metadata": {},
   "source": [
    "object.類別的屬性\n",
    "\n",
    "object.類別的方法()"
   ]
  },
  {
   "cell_type": "code",
   "execution_count": 2,
   "metadata": {},
   "outputs": [
    {
     "name": "stdout",
     "output_type": "stream",
     "text": [
      "The bank is  Taipei Bank\n",
      "Our slogan is  Customer First\n"
     ]
    }
   ],
   "source": [
    "class Banks():\n",
    "    #Define Bank Class\n",
    "    title='Taipei Bank'             #attribute\n",
    "    def slogan(self):\n",
    "        return 'Customer First'  #method\n",
    "\n",
    "ourbank=Banks()                  #define object ourbank\n",
    "print('The bank is ',ourbank.title)\n",
    "print('Our slogan is ',ourbank.slogan())"
   ]
  },
  {
   "cell_type": "markdown",
   "metadata": {},
   "source": [
    "初始化方法：Constructor(構建元)"
   ]
  },
  {
   "cell_type": "code",
   "execution_count": 3,
   "metadata": {},
   "outputs": [],
   "source": [
    "class Banks():\n",
    "    title='Taipei Bank'\n",
    "    def __init__(self,user,money):\n",
    "        self.name=user                 #name is attribute of Banks\n",
    "        self.balance=money          #balance is attribute of Banks\n",
    "        \n",
    "    def get_balance(self):\n",
    "        return self.balance"
   ]
  },
  {
   "cell_type": "code",
   "execution_count": 5,
   "metadata": {},
   "outputs": [
    {
     "name": "stdout",
     "output_type": "stream",
     "text": [
      "Erik has 1000\n",
      "Erik has 1000\n"
     ]
    }
   ],
   "source": [
    "erikbank=Banks('Erik',1000)\n",
    "print(erikbank.name,'has',erikbank.balance)\n",
    "print(erikbank.name,'has',erikbank.get_balance())"
   ]
  },
  {
   "cell_type": "markdown",
   "metadata": {},
   "source": [
    "新增存提款功能"
   ]
  },
  {
   "cell_type": "code",
   "execution_count": 8,
   "metadata": {},
   "outputs": [],
   "source": [
    "class Banks():\n",
    "    title='Taipei Bank'\n",
    "    \n",
    "    def __init__(self,user,money):\n",
    "        self.name=user\n",
    "        self.balance=money\n",
    "    \n",
    "    def save_money(self,money):\n",
    "        self.balance+=money\n",
    "        print('Saving',money,'has completed.')\n",
    "    \n",
    "    def withdraw_money(self,money):\n",
    "        self.balance-=money\n",
    "        print('Withdrawing',money,'has completed.')\n",
    "    \n",
    "    def get_balance(self):\n",
    "        print(self.name.title(),'has',self.balance)"
   ]
  },
  {
   "cell_type": "code",
   "execution_count": 9,
   "metadata": {},
   "outputs": [
    {
     "name": "stdout",
     "output_type": "stream",
     "text": [
      "Erik has 1000\n",
      "Saving 3000 has completed.\n",
      "Erik has 4000\n",
      "Withdrawing 2000 has completed.\n",
      "Erik has 2000\n"
     ]
    }
   ],
   "source": [
    "erikbank=Banks('Erik',1000)\n",
    "erikbank.get_balance()\n",
    "erikbank.save_money(3000)\n",
    "erikbank.get_balance()\n",
    "erikbank.withdraw_money(2000)\n",
    "erikbank.get_balance()"
   ]
  },
  {
   "cell_type": "markdown",
   "metadata": {},
   "source": [
    "通常開戶是0元"
   ]
  },
  {
   "cell_type": "code",
   "execution_count": 10,
   "metadata": {},
   "outputs": [],
   "source": [
    "class Banks():\n",
    "    \n",
    "    def __init__(self,user):\n",
    "        self.name=user\n",
    "        self.balance=0\n",
    "        self.title='Taipei Bank'\n",
    "    \n",
    "    def save_money(self,money):\n",
    "        self.balance+=money\n",
    "        print('Saving',money,'has completed.')\n",
    "    \n",
    "    def withdraw_money(self,money):\n",
    "        self.balance-=money\n",
    "        print('Withdrawing',money,'has completed.')\n",
    "    \n",
    "    def get_balance(self):\n",
    "        print(self.name.title(),'has',self.balance)"
   ]
  },
  {
   "cell_type": "code",
   "execution_count": 11,
   "metadata": {},
   "outputs": [
    {
     "name": "stdout",
     "output_type": "stream",
     "text": [
      "Erik has 0\n",
      "Saving 3000 has completed.\n",
      "Erik has 3000\n",
      "Withdrawing 2000 has completed.\n",
      "Erik has 1000\n"
     ]
    }
   ],
   "source": [
    "erikbank=Banks('Erik')\n",
    "erikbank.get_balance()\n",
    "erikbank.save_money(3000)\n",
    "erikbank.get_balance()\n",
    "erikbank.withdraw_money(2000)\n",
    "erikbank.get_balance()"
   ]
  },
  {
   "cell_type": "markdown",
   "metadata": {},
   "source": [
    "## 2.訪問權限-封裝"
   ]
  },
  {
   "cell_type": "markdown",
   "metadata": {},
   "source": [
    "私有屬性和方法，類別外無法直接更改類別內的私有屬性，類別外也無法呼叫私有方法，稱為封裝．"
   ]
  },
  {
   "cell_type": "markdown",
   "metadata": {},
   "source": [
    "直接串改相當不安全啊！"
   ]
  },
  {
   "cell_type": "code",
   "execution_count": 14,
   "metadata": {},
   "outputs": [
    {
     "data": {
      "text/plain": [
       "'Taipei Bank'"
      ]
     },
     "execution_count": 14,
     "metadata": {},
     "output_type": "execute_result"
    }
   ],
   "source": [
    "erikbank.title"
   ]
  },
  {
   "cell_type": "code",
   "execution_count": 12,
   "metadata": {},
   "outputs": [
    {
     "name": "stdout",
     "output_type": "stream",
     "text": [
      "Erik has 0\n",
      "Erik has 1000000000\n"
     ]
    }
   ],
   "source": [
    "erikbank=Banks('Erik')\n",
    "erikbank.get_balance()\n",
    "erikbank.balance=1000000000\n",
    "erikbank.get_balance()"
   ]
  },
  {
   "cell_type": "markdown",
   "metadata": {},
   "source": [
    "屬性宣告改成私有屬性，外部程式就不能串改惹～"
   ]
  },
  {
   "cell_type": "code",
   "execution_count": 19,
   "metadata": {},
   "outputs": [],
   "source": [
    "class Banks():\n",
    "    \n",
    "    def __init__(self,user):\n",
    "        self.__name=user\n",
    "        self.__balance=0\n",
    "        self.__title='Taipei Bank'\n",
    "    \n",
    "    def save_money(self,money):\n",
    "        self.__balance+=money\n",
    "        print('Saving',money,'has completed.')\n",
    "    \n",
    "    def withdraw_money(self,money):\n",
    "        self.__balance-=money\n",
    "        print('Withdrawing',money,'has completed.')\n",
    "    \n",
    "    def get_balance(self):\n",
    "        print(self.__name.title(),'has',self.__balance)"
   ]
  },
  {
   "cell_type": "code",
   "execution_count": 17,
   "metadata": {},
   "outputs": [],
   "source": [
    "class Banks():\n",
    "    \n",
    "    def __init__(self,user):\n",
    "        self.__name=user\n",
    "        self.__balance=0\n",
    "        self.__title='Taipei Bank'\n",
    "    \n",
    "    def save_money(self,money):\n",
    "        self.balance+=money\n",
    "        print('Saving',money,'has completed.')\n",
    "    \n",
    "    def withdraw_money(self,money):\n",
    "        self.balance-=money\n",
    "        print('Withdrawing',money,'has completed.')\n",
    "    \n",
    "    def get_balance(self):\n",
    "        print(self.name.title(),'has',self.balance)"
   ]
  },
  {
   "cell_type": "code",
   "execution_count": null,
   "metadata": {},
   "outputs": [],
   "source": []
  },
  {
   "cell_type": "code",
   "execution_count": 21,
   "metadata": {},
   "outputs": [
    {
     "name": "stdout",
     "output_type": "stream",
     "text": [
      "Erik has 0\n",
      "Erik has 0\n",
      "Saving 2000 has completed.\n",
      "Erik has 2000\n"
     ]
    }
   ],
   "source": [
    "erikbank=Banks('Erik')\n",
    "erikbank.get_balance()\n",
    "erikbank.balance=1000000000\n",
    "erikbank.get_balance()\n",
    "erikbank.save_money(2000)\n",
    "erikbank.get_balance()"
   ]
  },
  {
   "cell_type": "markdown",
   "metadata": {},
   "source": [
    "私有方法：有些機敏的商機不會想讓外部知道"
   ]
  },
  {
   "cell_type": "code",
   "execution_count": 38,
   "metadata": {},
   "outputs": [],
   "source": [
    "class Banks():\n",
    "    \n",
    "    def __init__(self,user):\n",
    "        self.__name=user\n",
    "        self.__balance=0\n",
    "        self.__title='Taipei Bank'\n",
    "        self.__rate=30\n",
    "        self.__service_charge=0.01\n",
    "    \n",
    "    def save_money(self,money):\n",
    "        self.__balance+=money\n",
    "        print('Saving',money,'has completed.')\n",
    "    \n",
    "    def withdraw_money(self,money):\n",
    "        self.__balance-=money\n",
    "        print('Withdrawing',money,'has completed.')\n",
    "    \n",
    "    def get_balance(self):\n",
    "        print(self.__name.title(),'has',self.__balance)\n",
    "        \n",
    "    def usa_to_taiwan(self,usa_dollar):\n",
    "        self.result=self.__cal_rate(usa_dollar)\n",
    "        return self.result\n",
    "    \n",
    "    def __cal_rate(self,usa_dollar):\n",
    "        return int(usa_dollar*self.__rate*(1-self.__service_charge))\n",
    "    \n",
    "    def bank_title(self):\n",
    "        return self.__title"
   ]
  },
  {
   "cell_type": "code",
   "execution_count": 23,
   "metadata": {},
   "outputs": [
    {
     "name": "stdout",
     "output_type": "stream",
     "text": [
      "$ 100 can change to NT$ 2970\n"
     ]
    }
   ],
   "source": [
    "erikbank=Banks('Erik')\n",
    "usa_dollar=100\n",
    "print('$',usa_dollar,'can change to NT$',erikbank.usa_to_taiwan(usa_dollar))"
   ]
  },
  {
   "cell_type": "markdown",
   "metadata": {},
   "source": [
    "## 3.類別的繼承"
   ]
  },
  {
   "cell_type": "markdown",
   "metadata": {},
   "source": [
    "### 3.1 基底類別 ＆ 衍生類別"
   ]
  },
  {
   "cell_type": "markdown",
   "metadata": {},
   "source": [
    "基底類別(base class)必須在衍生類別(derived class)前面，如下：\n",
    "\n",
    "class BaseClassName():\n",
    "    Base Class 內容                                        #先定義基底類別\n",
    "class DerivedClassName(BaseClassName):\n",
    "    Derived Class 內容                                    #再定義衍生類別\n",
    "    \n",
    "衍生類別繼承基底類別的公有屬性與方法，同時也可以有自己的屬性與方法．"
   ]
  },
  {
   "cell_type": "code",
   "execution_count": 27,
   "metadata": {},
   "outputs": [
    {
     "name": "stdout",
     "output_type": "stream",
     "text": [
      "Saving 100 has completed.\n",
      "John has 100\n"
     ]
    }
   ],
   "source": [
    "class Daan_Banks(Banks):\n",
    "    pass\n",
    "\n",
    "johnbank=Daan_Banks('John')\n",
    "johnbank.save_money(100)\n",
    "johnbank.get_balance()"
   ]
  },
  {
   "cell_type": "markdown",
   "metadata": {},
   "source": [
    "取得基底類別的私有屬性(基底類別那要寫 return)"
   ]
  },
  {
   "cell_type": "code",
   "execution_count": 28,
   "metadata": {},
   "outputs": [
    {
     "data": {
      "text/plain": [
       "'Taipei Bank'"
      ]
     },
     "execution_count": 28,
     "metadata": {},
     "output_type": "execute_result"
    }
   ],
   "source": [
    "johnbank.bank_title()"
   ]
  },
  {
   "cell_type": "markdown",
   "metadata": {},
   "source": [
    "若衍生類別跟基底類別有同樣名稱的屬性或方法，會先找衍生類別，再找基底類別．"
   ]
  },
  {
   "cell_type": "code",
   "execution_count": 58,
   "metadata": {},
   "outputs": [],
   "source": [
    "class Banks():\n",
    "    \n",
    "    def __init__(self,user):\n",
    "        self.__name=user\n",
    "        self.__balance=0\n",
    "        self.title='Taipei Bank'\n",
    "        self.__rate=30\n",
    "        self.__service_charge=0.01\n",
    "    \n",
    "    def save_money(self,money):\n",
    "        self.__balance+=money\n",
    "        print('Saving',money,'has completed.')\n",
    "    \n",
    "    def withdraw_money(self,money):\n",
    "        self.__balance-=money\n",
    "        print('Withdrawing',money,'has completed.')\n",
    "    \n",
    "    def get_balance(self):\n",
    "        print(self.__name.title(),'has',self.__balance)\n",
    "        \n",
    "    def usa_to_taiwan(self,usa_dollar):\n",
    "        self.result=self.__cal_rate(usa_dollar)\n",
    "        return self.result\n",
    "    \n",
    "    def __cal_rate(self,usa_dollar):\n",
    "        return int(usa_dollar*self.__rate*(1-self.__service_charge))"
   ]
  },
  {
   "cell_type": "code",
   "execution_count": 59,
   "metadata": {},
   "outputs": [
    {
     "name": "stdout",
     "output_type": "stream",
     "text": [
      "Joan's bank = Taipei Bank\n",
      "John's bank = Taipei Bank - Daan Branch\n"
     ]
    }
   ],
   "source": [
    "class Daan_Banks(Banks):\n",
    "    \n",
    "    def __init__(self,user):\n",
    "        self.title='Taipei Bank - Daan Branch'\n",
    "    \n",
    "    def bank_title(self):\n",
    "        return self.title\n",
    "\n",
    "joanbank=Banks('Joan')\n",
    "print(\"Joan's bank =\",joanbank.title)\n",
    "\n",
    "johnbank=Daan_Banks('John')\n",
    "print(\"John's bank =\",johnbank.title)"
   ]
  },
  {
   "cell_type": "code",
   "execution_count": 60,
   "metadata": {},
   "outputs": [],
   "source": [
    "class Banks():\n",
    "    \n",
    "    def __init__(self,user):\n",
    "        self.__name=user\n",
    "        self.__balance=0\n",
    "        self.__title='Taipei Bank'\n",
    "        self.__rate=30\n",
    "        self.__service_charge=0.01\n",
    "    \n",
    "    def save_money(self,money):\n",
    "        self.__balance+=money\n",
    "        print('Saving',money,'has completed.')\n",
    "    \n",
    "    def withdraw_money(self,money):\n",
    "        self.__balance-=money\n",
    "        print('Withdrawing',money,'has completed.')\n",
    "    \n",
    "    def get_balance(self):\n",
    "        print(self.__name.title(),'has',self.__balance)\n",
    "        \n",
    "    def usa_to_taiwan(self,usa_dollar):\n",
    "        self.result=self.__cal_rate(usa_dollar)\n",
    "        return self.result\n",
    "    \n",
    "    def __cal_rate(self,usa_dollar):\n",
    "        return int(usa_dollar*self.__rate*(1-self.__service_charge))\n",
    "    \n",
    "    def bank_title(self):\n",
    "        return self.__title"
   ]
  },
  {
   "cell_type": "code",
   "execution_count": 61,
   "metadata": {},
   "outputs": [
    {
     "name": "stdout",
     "output_type": "stream",
     "text": [
      "Jame's bank = Taipei Bank\n",
      "Ken's bank = Taipei Bank - Daan Branch\n"
     ]
    }
   ],
   "source": [
    "class Daan_Banks(Banks):\n",
    "    \n",
    "    def __init__(self,user):\n",
    "        self.title='Taipei Bank - Daan Branch'\n",
    "    \n",
    "    def bank_title(self):\n",
    "        return self.title\n",
    "\n",
    "jamebank=Banks('James')\n",
    "print(\"Jame's bank =\",jamebank.bank_title())\n",
    "\n",
    "kenbank=Daan_Banks('Ken')\n",
    "print(\"Ken's bank =\",kenbank.bank_title())"
   ]
  },
  {
   "cell_type": "markdown",
   "metadata": {},
   "source": [
    "### 3.2 衍生類別引用基底類別的方式"
   ]
  },
  {
   "cell_type": "code",
   "execution_count": 67,
   "metadata": {},
   "outputs": [
    {
     "name": "stdout",
     "output_type": "stream",
     "text": [
      "Lucy is 5  years old.\n",
      "Lucy  is running\n",
      "My dog Lulu is 7  years old.\n",
      "My dog Lulu  is running\n"
     ]
    }
   ],
   "source": [
    "class Animals():\n",
    "    \n",
    "    def __init__(self,name,age):\n",
    "        self.animal_name=name\n",
    "        self.animal_age=age\n",
    "    \n",
    "    def run(self):\n",
    "        print(self.animal_name,' is running')\n",
    "        \n",
    "class Dogs(Animals):\n",
    "    \n",
    "    def __init__(self,dog_name,dog_age):\n",
    "        super().__init__('My dog '+dog_name,dog_age)\n",
    "\n",
    "cat=Animals('Lucy',5)\n",
    "print(cat.animal_name,'is',cat.animal_age,' years old.')\n",
    "cat.run()\n",
    "\n",
    "dog=Dogs('Lulu',7)\n",
    "print(dog.animal_name,'is',dog.animal_age,' years old.')\n",
    "dog.run()"
   ]
  },
  {
   "cell_type": "markdown",
   "metadata": {},
   "source": [
    "三代同堂"
   ]
  },
  {
   "cell_type": "code",
   "execution_count": 96,
   "metadata": {},
   "outputs": [],
   "source": [
    "class Grandfather():\n",
    "    \n",
    "    def __init__(self):\n",
    "        self.grandfathermoney=1000000\n",
    "    def get_info1(self):\n",
    "        print(\"Grandfather's information\")\n",
    "        \n",
    "class Father(Grandfather):\n",
    "    \n",
    "    def __init__(self):\n",
    "        self.fathermoney=500000\n",
    "        super().__init__()\n",
    "    def get_info2(self):\n",
    "        print(\"Father's information\")\n",
    "\n",
    "class Son(Father):\n",
    "    \n",
    "    def __init__(self):\n",
    "        self.sonmoney=30000\n",
    "        super().__init__()\n",
    "    def get_info3(self):\n",
    "        print(\"Son's information\")\n",
    "    def get_money(self):\n",
    "        print(\"Son's money:\",self.sonmoney)\n",
    "        print(\"Father's money:\",self.fathermoney)\n",
    "        print(\"Grandfather's money:\",self.grandfathermoney)"
   ]
  },
  {
   "cell_type": "code",
   "execution_count": 97,
   "metadata": {},
   "outputs": [
    {
     "name": "stdout",
     "output_type": "stream",
     "text": [
      "Son's information\n",
      "Father's information\n",
      "Grandfather's information\n",
      "Son's money: 30000\n",
      "Father's money: 500000\n",
      "Grandfather's money: 1000000\n"
     ]
    }
   ],
   "source": [
    "son=Son()\n",
    "son.get_info3()\n",
    "son.get_info2()\n",
    "son.get_info1()\n",
    "son.get_money()"
   ]
  },
  {
   "cell_type": "markdown",
   "metadata": {},
   "source": [
    "兄弟類別"
   ]
  },
  {
   "cell_type": "code",
   "execution_count": 100,
   "metadata": {},
   "outputs": [],
   "source": [
    "class Father():\n",
    "    \n",
    "    def __init__(self):\n",
    "        self.fathermoney=1000000\n",
    "\n",
    "class Even(Father):\n",
    "    \n",
    "    def __init__(self):\n",
    "        self.evenmoney=30000\n",
    "        super().__init__()\n",
    "        \n",
    "class Amy(Father):\n",
    "    \n",
    "    def __init__(self):\n",
    "        self.amymoney=60000\n",
    "        super().__init__()\n",
    "    def get_money(self):\n",
    "        print(\"Amy's asset:\",self.amymoney)\n",
    "        print(\"Father's asset:\",self.fathermoney)\n",
    "        print(\"Even's asset:\",Even().evenmoney)"
   ]
  },
  {
   "cell_type": "code",
   "execution_count": 101,
   "metadata": {},
   "outputs": [
    {
     "name": "stdout",
     "output_type": "stream",
     "text": [
      "Amy's asset: 60000\n",
      "Father's asset: 1000000\n",
      "Even's asset: 30000\n"
     ]
    }
   ],
   "source": [
    "amy=Amy()\n",
    "amy.get_money()"
   ]
  },
  {
   "cell_type": "markdown",
   "metadata": {},
   "source": [
    "多重類別"
   ]
  },
  {
   "cell_type": "code",
   "execution_count": 127,
   "metadata": {},
   "outputs": [],
   "source": [
    "class Apple():\n",
    "    \n",
    "    def __init__(self,product,price):\n",
    "        self.name=product\n",
    "        self.money=price\n",
    "    def which(self):\n",
    "        return self.name.title()\n",
    "    def price(self):\n",
    "        return self.money\n",
    "\n",
    "class Macbook(Apple):\n",
    "    \n",
    "    def __init__(self,mac_product,mac_price):\n",
    "        super().__init__(mac_product,mac_price)\n",
    "    def which(self):\n",
    "        return self.name.title()\n",
    "    def price(self):\n",
    "        return self.money\n",
    "    \n",
    "class IPhone():\n",
    "    \n",
    "    def __init__(self,iphone_product,iphone_price):\n",
    "        self.name=\"IPhone \"+iphone_product\n",
    "        self.money=iphone_price\n",
    "    def which(self):\n",
    "        return self.name\n",
    "    def price(self):\n",
    "        return self.money\n",
    "\n",
    "def describe(obj):\n",
    "    print(\"The price of \",obj.which(),\" is \",obj.price())"
   ]
  },
  {
   "cell_type": "code",
   "execution_count": 131,
   "metadata": {
    "scrolled": true
   },
   "outputs": [
    {
     "name": "stdout",
     "output_type": "stream",
     "text": [
      "The price of  Ipad  is  10000\n"
     ]
    }
   ],
   "source": [
    "ipad=Apple(\"IPad\",10000)\n",
    "describe(ipad)"
   ]
  },
  {
   "cell_type": "code",
   "execution_count": 132,
   "metadata": {},
   "outputs": [
    {
     "name": "stdout",
     "output_type": "stream",
     "text": [
      "The price of  Macbook Pro  is  40000\n"
     ]
    }
   ],
   "source": [
    "macbook_pro=Macbook(\"Macbook pro\",40000)\n",
    "describe(macbook_pro)"
   ]
  },
  {
   "cell_type": "code",
   "execution_count": 133,
   "metadata": {
    "scrolled": true
   },
   "outputs": [
    {
     "name": "stdout",
     "output_type": "stream",
     "text": [
      "The price of  IPhone XR  is  26900\n"
     ]
    }
   ],
   "source": [
    "iphone8=IPhone(\"XR\",26900)\n",
    "describe(iphone8)"
   ]
  },
  {
   "cell_type": "code",
   "execution_count": null,
   "metadata": {},
   "outputs": [],
   "source": []
  }
 ],
 "metadata": {
  "kernelspec": {
   "display_name": "Python 3",
   "language": "python",
   "name": "python3"
  },
  "language_info": {
   "codemirror_mode": {
    "name": "ipython",
    "version": 3
   },
   "file_extension": ".py",
   "mimetype": "text/x-python",
   "name": "python",
   "nbconvert_exporter": "python",
   "pygments_lexer": "ipython3",
   "version": "3.6.7"
  }
 },
 "nbformat": 4,
 "nbformat_minor": 2
}
