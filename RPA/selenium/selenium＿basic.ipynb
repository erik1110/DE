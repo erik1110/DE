{
 "cells": [
  {
   "cell_type": "code",
   "execution_count": 6,
   "metadata": {},
   "outputs": [],
   "source": [
    "from time import sleep\n",
    "import selenium"
   ]
  },
  {
   "cell_type": "markdown",
   "metadata": {},
   "source": [
    "### Kick off!"
   ]
  },
  {
   "cell_type": "code",
   "execution_count": 7,
   "metadata": {},
   "outputs": [],
   "source": [
    "from selenium import webdriver \n",
    "driver=webdriver.Chrome('./chromedriver')\n",
    "driver.get(\"https://shopping.pchome.com.tw/\")"
   ]
  },
  {
   "cell_type": "code",
   "execution_count": 30,
   "metadata": {},
   "outputs": [
    {
     "data": {
      "text/plain": [
       "'PChome 24h購物'"
      ]
     },
     "execution_count": 30,
     "metadata": {},
     "output_type": "execute_result"
    }
   ],
   "source": [
    "driver.title"
   ]
  },
  {
   "cell_type": "code",
   "execution_count": 14,
   "metadata": {},
   "outputs": [
    {
     "data": {
      "text/plain": [
       "'https://shopping.pchome.com.tw/'"
      ]
     },
     "execution_count": 14,
     "metadata": {},
     "output_type": "execute_result"
    }
   ],
   "source": [
    "#目前網址\n",
    "driver.current_url"
   ]
  },
  {
   "cell_type": "code",
   "execution_count": 15,
   "metadata": {},
   "outputs": [],
   "source": [
    "#最大化瀏覽器\n",
    "driver.maximize_window()"
   ]
  },
  {
   "cell_type": "markdown",
   "metadata": {},
   "source": [
    "### find_element_by_link_text"
   ]
  },
  {
   "cell_type": "code",
   "execution_count": 18,
   "metadata": {},
   "outputs": [
    {
     "data": {
      "text/plain": [
       "[<selenium.webdriver.remote.webelement.WebElement (session=\"3cf500c6fcb70638efcde98576d5afd2\", element=\"0.7126294286642665-1\")>,\n",
       " <selenium.webdriver.remote.webelement.WebElement (session=\"3cf500c6fcb70638efcde98576d5afd2\", element=\"0.7126294286642665-2\")>,\n",
       " <selenium.webdriver.remote.webelement.WebElement (session=\"3cf500c6fcb70638efcde98576d5afd2\", element=\"0.7126294286642665-3\")>]"
      ]
     },
     "execution_count": 18,
     "metadata": {},
     "output_type": "execute_result"
    }
   ],
   "source": [
    "#查找文字\n",
    "element_24h=driver.find_elements_by_link_text('24h購物')\n",
    "element_24h"
   ]
  },
  {
   "cell_type": "code",
   "execution_count": 20,
   "metadata": {},
   "outputs": [],
   "source": [
    "element_24h[0].click()"
   ]
  },
  {
   "cell_type": "markdown",
   "metadata": {},
   "source": [
    "### find_element_partial_by_link_text"
   ]
  },
  {
   "cell_type": "code",
   "execution_count": 23,
   "metadata": {},
   "outputs": [
    {
     "name": "stdout",
     "output_type": "stream",
     "text": [
      "PChome線上購物 - 24h到貨\n",
      "線上購物\n",
      "24h購物\n",
      "購物中心\n",
      "購物車\n",
      "購物滿$490 免運費\n",
      "24h購物\n",
      "購物中心\n",
      "PChome線上購物\n"
     ]
    }
   ],
   "source": [
    "#查找相似文字\n",
    "element_shopping=driver.find_elements_by_partial_link_text('購物')\n",
    "for i in range(len(element_shopping)):\n",
    "    print(element_shopping[i].text)"
   ]
  },
  {
   "cell_type": "markdown",
   "metadata": {},
   "source": [
    "### find_element_by_css_selector"
   ]
  },
  {
   "cell_type": "code",
   "execution_count": 26,
   "metadata": {},
   "outputs": [],
   "source": [
    "#使用css selector\n",
    "element_search=driver.find_element_by_css_selector('input[id=\"keyword\"]')\n",
    "element_search.send_keys('Macbook Pro')"
   ]
  },
  {
   "cell_type": "code",
   "execution_count": 28,
   "metadata": {},
   "outputs": [],
   "source": [
    "element_search=driver.find_element_by_css_selector('input[type=\"text\"]')\n",
    "element_search.clear()\n",
    "element_search.send_keys('Macbook Air')"
   ]
  },
  {
   "cell_type": "code",
   "execution_count": null,
   "metadata": {},
   "outputs": [],
   "source": [
    "element_image=driver.find_element_by_css_selector('img[alt=\"請輸入\"]')"
   ]
  },
  {
   "cell_type": "markdown",
   "metadata": {},
   "source": [
    "#[class^='cls'] 抓取 class 屬性值為 \"cls\" 開頭的 element\n",
    "#[class$='cls'] 抓取 class 屬性值為 \"cls\" 結尾的 element\n",
    "#[class*='cls'] 抓取 class 屬性值中包含字串 \"cls\" 的 element"
   ]
  },
  {
   "cell_type": "markdown",
   "metadata": {},
   "source": [
    "我們只想抓取含有 title、href 與 class 屬性的 element，程式碼如下所示。\n",
    "find_element_by_css_selector(\"a[title][href][class]\")"
   ]
  },
  {
   "cell_type": "markdown",
   "metadata": {},
   "source": [
    "### find_element_by_xpath"
   ]
  },
  {
   "cell_type": "markdown",
   "metadata": {},
   "source": [
    "#/xxx:選取根節點xxx\n",
    "#/xxx/yyy:根據絕對路徑選擇元素\n",
    "#//xxx:整個文檔掃描，找到所有xxx元素\n",
    "#//xxx/yyy:所有父元素為xxx的yyy元素\n",
    "#.:選取當前的父元素節點\n",
    "#..:選取父元素地址\n",
    "#//xxx[@ibd]:選取所有xxx元素中有id屬性的元素\n",
    "#//xxx[@id=yyy]:選取所有xxx元素中有id屬性為yyy的元素"
   ]
  },
  {
   "cell_type": "code",
   "execution_count": 37,
   "metadata": {},
   "outputs": [
    {
     "data": {
      "text/plain": [
       "'keywords'"
      ]
     },
     "execution_count": 37,
     "metadata": {},
     "output_type": "execute_result"
    }
   ],
   "source": [
    "driver.find_element_by_xpath('/html/head/meta[6]/.').get_attribute('name')"
   ]
  },
  {
   "cell_type": "code",
   "execution_count": 44,
   "metadata": {},
   "outputs": [],
   "source": [
    "ele=driver.find_element_by_xpath('//input[@id=\"keyword\"]')\n",
    "ele.send_keys('test')"
   ]
  },
  {
   "cell_type": "code",
   "execution_count": 45,
   "metadata": {},
   "outputs": [],
   "source": [
    "#*代表查找所有元素\n",
    "ele=driver.find_element_by_xpath('//*[@id=\"keyword\"]')"
   ]
  },
  {
   "cell_type": "code",
   "execution_count": 52,
   "metadata": {},
   "outputs": [
    {
     "data": {
      "text/plain": [
       "'SearchForm'"
      ]
     },
     "execution_count": 52,
     "metadata": {},
     "output_type": "execute_result"
    }
   ],
   "source": [
    "#count某個標籤是特定個數\n",
    "ele=driver.find_element_by_xpath('//*[count(input)=2]')\n",
    "ele.get_attribute('id')"
   ]
  },
  {
   "cell_type": "markdown",
   "metadata": {},
   "source": [
    "### iframe"
   ]
  },
  {
   "cell_type": "code",
   "execution_count": null,
   "metadata": {},
   "outputs": [],
   "source": [
    "driver.switch_to.frame(0)  # 1.用frame的index来定位，第一个是0\n",
    "driver.switch_to.frame(\"frame1\")  # 2.用id来定位\n",
    "driver.switch_to.frame(\"myframe\")  # 3.用name来定位\n",
    "driver.switch_to.frame(driver.find_element_by_tag_name(\"iframe\"))  # 4.用WebElement对象来定位\n",
    "#通常采用id和name就能够解决绝大多数问题。但有时候frame并无这两项属性，则可以用index和WebElement来定位：\n",
    "#index从0开始，传入整型参数即判定为用index定位，传入str参数则判定为用id/name定位\n",
    "#WebElement对象，即用find_element系列方法所取得的对象，我们可以用tag_name、xpath等来定位frame对象\n",
    "'''\n",
    "<iframe src=\"myframetest.html\" />\n",
    "'''\n",
    "#5.用xpath定位，传入WebElement对象：\n",
    "driver.switch_to.frame(driver.find_element_by_xpath(\"//iframe[contains(@src,'myframe')]\"))"
   ]
  },
  {
   "cell_type": "code",
   "execution_count": null,
   "metadata": {},
   "outputs": [],
   "source": [
    "#切回主文檔\n",
    "driver.switch_to.default_content()\n",
    "#嵌套frame的操作\n",
    "'''\n",
    "<html>\n",
    "    <iframe id=\"frame1\">\n",
    "        <iframe id=\"frame2\" / >\n",
    "    </iframe>\n",
    "</html>\n",
    "'''\n",
    "driver.switch_to.frame(\"frame1\")\n",
    "driver.switch_to.frame(\"frame2\")\n",
    "driver.switch_to.parent_frame()  # 如果當前已是主文檔，則無效果\n"
   ]
  },
  {
   "cell_type": "markdown",
   "metadata": {},
   "source": [
    "網站自動化測試對於 iFrame的處理\n",
    "https://www.qa-knowhow.com/?p=2525"
   ]
  },
  {
   "cell_type": "markdown",
   "metadata": {},
   "source": [
    "### click問題"
   ]
  },
  {
   "cell_type": "markdown",
   "metadata": {},
   "source": [
    "python+selenium 定位到元素，无法点击\n",
    "解决方案：\n",
    "1.在执行click之前多休眠几秒\n",
    "2.确认自己的元素是否定位正确，是否有id，name，class相同的元素，加下划线的是遮挡的div确定它的位置判断他的z_index是否大于你要点击元素的z_index\n",
    "3.用Enter键代替click\n",
    "https://blog.csdn.net/chang995196962/article/details/84654203\n",
    "python+selenium实现登录账户后自动点击\n",
    "https://blog.csdn.net/lijun538/article/details/50695914"
   ]
  },
  {
   "cell_type": "markdown",
   "metadata": {},
   "source": [
    "### 等待"
   ]
  },
  {
   "cell_type": "markdown",
   "metadata": {},
   "source": [
    "Python selenium —— 一定要会用selenium的等待，三种等待方式解读\n",
    "https://blog.csdn.net/huilan_same/article/details/52544521"
   ]
  },
  {
   "cell_type": "markdown",
   "metadata": {},
   "source": [
    "### 綜合整理"
   ]
  },
  {
   "cell_type": "markdown",
   "metadata": {},
   "source": [
    "https://blog.csdn.net/qq_29186489/article/details/78661008"
   ]
  },
  {
   "cell_type": "code",
   "execution_count": null,
   "metadata": {},
   "outputs": [],
   "source": []
  },
  {
   "cell_type": "code",
   "execution_count": null,
   "metadata": {},
   "outputs": [],
   "source": []
  },
  {
   "cell_type": "code",
   "execution_count": null,
   "metadata": {},
   "outputs": [],
   "source": []
  },
  {
   "cell_type": "code",
   "execution_count": null,
   "metadata": {},
   "outputs": [],
   "source": []
  }
 ],
 "metadata": {
  "kernelspec": {
   "display_name": "Python 3",
   "language": "python",
   "name": "python3"
  },
  "language_info": {
   "codemirror_mode": {
    "name": "ipython",
    "version": 3
   },
   "file_extension": ".py",
   "mimetype": "text/x-python",
   "name": "python",
   "nbconvert_exporter": "python",
   "pygments_lexer": "ipython3",
   "version": "3.6.5"
  }
 },
 "nbformat": 4,
 "nbformat_minor": 2
}
