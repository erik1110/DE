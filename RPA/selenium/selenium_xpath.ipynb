{
 "cells": [
  {
   "cell_type": "code",
   "execution_count": 1,
   "metadata": {},
   "outputs": [],
   "source": [
    "import selenium\n",
    "from time import sleep\n",
    "from selenium.webdriver.common.action_chains import ActionChains"
   ]
  },
  {
   "cell_type": "code",
   "execution_count": 2,
   "metadata": {},
   "outputs": [],
   "source": [
    "from selenium import webdriver \n",
    "driver=webdriver.Chrome('./chromedriver')\n",
    "driver.get(\"https://tw.voicetube.com/\")"
   ]
  },
  {
   "cell_type": "markdown",
   "metadata": {},
   "source": [
    "https://www.itread01.com/content/1504789095.html"
   ]
  },
  {
   "cell_type": "markdown",
   "metadata": {},
   "source": [
    "https://stackoverflow.com/questions/35606708/what-is-the-difference-between-and-in-xpath"
   ]
  },
  {
   "cell_type": "markdown",
   "metadata": {},
   "source": [
    "Absolute vs relative XPaths (/ vs .)\n",
    "\n",
    "/ introduces an absolute location path, starting at the root of the document.\n",
    "\n",
    ". introduces a relative location path, starting at the context node.\n",
    "Named element vs any element (ename vs *)\n",
    "\n",
    "/ename selects an ename root element\n",
    "\n",
    "./ename selects all ename child elements of the current node.\n",
    "\n",
    "/* selects the root element, regardless of name.\n",
    "\n",
    "./* or * selects all child elements of the context node, regardless of name.\n",
    "\n",
    "descendant-or-self axis (//*)\n",
    "\n",
    "//ename selects all ename elements in a document.\n",
    "\n",
    ".//ename selects all ename elements at or beneath the context node.\n",
    "\n",
    "//* selects all elements in a document, regardless of name.\n",
    "\n",
    ".//* selects all elements, regardless of name, at or beneath the context node.\n",
    "\n",
    "With these concepts in mind, here are answers to your specific questions...\n",
    "\n",
    "\n",
    ".//*[@id='Passwd'] means to select all elements at or beneath the current context node that have an id attribute value equal to 'Passwd'.\n",
    "\n",
    "//child::input[@type='password'] can be simplified to //input[@type='password'] and means to select all input elements in the document that have an \n",
    "type attribute value equal to 'password'.\\\n"
   ]
  },
  {
   "cell_type": "markdown",
   "metadata": {},
   "source": [
    "## 統計 xxx 節點為 xx"
   ]
  },
  {
   "cell_type": "code",
   "execution_count": 3,
   "metadata": {},
   "outputs": [
    {
     "name": "stdout",
     "output_type": "stream",
     "text": [
      "form\n"
     ]
    }
   ],
   "source": [
    "ele=driver.find_element_by_xpath('//*[count(input)=2]/..')\n",
    "print(ele.tag_name)"
   ]
  },
  {
   "cell_type": "code",
   "execution_count": 5,
   "metadata": {},
   "outputs": [
    {
     "name": "stdout",
     "output_type": "stream",
     "text": [
      "div\n"
     ]
    }
   ],
   "source": [
    "ele=driver.find_element_by_xpath('//*[count(input)=2]/..')\n",
    "print(ele.tag_name)"
   ]
  },
  {
   "cell_type": "code",
   "execution_count": 6,
   "metadata": {
    "scrolled": true
   },
   "outputs": [
    {
     "name": "stdout",
     "output_type": "stream",
     "text": [
      "div\n"
     ]
    }
   ],
   "source": [
    "ele=driver.find_element_by_xpath('//*[count(input)=1]')\n",
    "print(ele.tag_name)"
   ]
  },
  {
   "cell_type": "markdown",
   "metadata": {},
   "source": [
    "## 找tag為xxx的元素"
   ]
  },
  {
   "cell_type": "code",
   "execution_count": 8,
   "metadata": {},
   "outputs": [
    {
     "name": "stdout",
     "output_type": "stream",
     "text": [
      "input\n"
     ]
    }
   ],
   "source": [
    "ele=driver.find_element_by_xpath('//*[local-name()=\"input\"]')\n",
    "print(ele.tag_name)"
   ]
  },
  {
   "cell_type": "code",
   "execution_count": 10,
   "metadata": {},
   "outputs": [
    {
     "data": {
      "text/plain": [
       "'csrf_test_name'"
      ]
     },
     "execution_count": 10,
     "metadata": {},
     "output_type": "execute_result"
    }
   ],
   "source": [
    "ele.get_attribute('name')"
   ]
  },
  {
   "cell_type": "markdown",
   "metadata": {},
   "source": [
    "## 找開頭為xxx的元素"
   ]
  },
  {
   "cell_type": "code",
   "execution_count": 11,
   "metadata": {},
   "outputs": [
    {
     "name": "stdout",
     "output_type": "stream",
     "text": [
      "iframe\n"
     ]
    }
   ],
   "source": [
    "ele=driver.find_element_by_xpath('//*[starts-with(local-name(),\"i\")]')\n",
    "print(ele.tag_name)"
   ]
  },
  {
   "cell_type": "code",
   "execution_count": 12,
   "metadata": {
    "scrolled": true
   },
   "outputs": [
    {
     "data": {
      "text/plain": [
       "'fb_xdm_frame_https'"
      ]
     },
     "execution_count": 12,
     "metadata": {},
     "output_type": "execute_result"
    }
   ],
   "source": [
    "ele.get_attribute('name')"
   ]
  },
  {
   "cell_type": "markdown",
   "metadata": {},
   "source": [
    "## 找包含為xxx的元素"
   ]
  },
  {
   "cell_type": "code",
   "execution_count": 18,
   "metadata": {},
   "outputs": [
    {
     "name": "stdout",
     "output_type": "stream",
     "text": [
      "title\n"
     ]
    }
   ],
   "source": [
    "ele=driver.find_element_by_xpath('//*[contains(local-name(),\"i\")]')\n",
    "print(ele.tag_name)"
   ]
  },
  {
   "cell_type": "code",
   "execution_count": 17,
   "metadata": {},
   "outputs": [
    {
     "name": "stdout",
     "output_type": "stream",
     "text": [
      "link\n"
     ]
    }
   ],
   "source": [
    "ele=driver.find_element_by_xpath('//*[contains(local-name(),\"i\")][last()]')\n",
    "print(ele.tag_name)"
   ]
  },
  {
   "cell_type": "code",
   "execution_count": 15,
   "metadata": {},
   "outputs": [],
   "source": [
    "ele.get_attribute('name')"
   ]
  },
  {
   "cell_type": "markdown",
   "metadata": {},
   "source": [
    "## 找長度為xxx的元素"
   ]
  },
  {
   "cell_type": "code",
   "execution_count": 30,
   "metadata": {},
   "outputs": [
    {
     "name": "stdout",
     "output_type": "stream",
     "text": [
      "script\n"
     ]
    }
   ],
   "source": [
    "ele=driver.find_element_by_xpath('//*[string-length(local-name())=6]')\n",
    "print(ele.tag_name)"
   ]
  },
  {
   "cell_type": "code",
   "execution_count": 31,
   "metadata": {},
   "outputs": [],
   "source": [
    "ele.get_attribute('name')"
   ]
  },
  {
   "cell_type": "markdown",
   "metadata": {},
   "source": [
    "## 多個路徑查找"
   ]
  },
  {
   "cell_type": "code",
   "execution_count": 32,
   "metadata": {},
   "outputs": [
    {
     "name": "stdout",
     "output_type": "stream",
     "text": [
      "title\n"
     ]
    }
   ],
   "source": [
    "ele=driver.find_element_by_xpath('//title  |  //input[last()]')\n",
    "print(ele.tag_name)"
   ]
  },
  {
   "cell_type": "code",
   "execution_count": 31,
   "metadata": {},
   "outputs": [],
   "source": [
    "ele.get_attribute('name')"
   ]
  }
 ],
 "metadata": {
  "kernelspec": {
   "display_name": "Python 3",
   "language": "python",
   "name": "python3"
  },
  "language_info": {
   "codemirror_mode": {
    "name": "ipython",
    "version": 3
   },
   "file_extension": ".py",
   "mimetype": "text/x-python",
   "name": "python",
   "nbconvert_exporter": "python",
   "pygments_lexer": "ipython3",
   "version": "3.7.4"
  }
 },
 "nbformat": 4,
 "nbformat_minor": 2
}
