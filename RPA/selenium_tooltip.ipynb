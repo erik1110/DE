{
 "cells": [
  {
   "cell_type": "markdown",
   "metadata": {},
   "source": [
    "Selnium:可以抓取滑鼠移到元素的提示訊息"
   ]
  },
  {
   "cell_type": "code",
   "execution_count": 1,
   "metadata": {},
   "outputs": [],
   "source": [
    "import selenium\n",
    "from time import sleep\n",
    "from selenium.webdriver.common.action_chains import ActionChains"
   ]
  },
  {
   "cell_type": "code",
   "execution_count": 2,
   "metadata": {},
   "outputs": [],
   "source": [
    "from selenium import webdriver \n",
    "driver=webdriver.Chrome('./chromedriver')\n",
    "driver.get(\"https://tw.voicetube.com/\")"
   ]
  },
  {
   "cell_type": "code",
   "execution_count": 3,
   "metadata": {},
   "outputs": [
    {
     "data": {
      "text/plain": [
       "[\"最完美披薩？好市多披薩的秘密 (This Is Why Costco's Pizza Is So Delicious)\",\n",
       " '眾說紛紜！一週到底該運動幾天呢？ (How Many Times a Week Should I Workout?)',\n",
       " '誤會一場！建立好習慣最常出現的兩大誤解！ (The 2 Biggest Misconceptions About Building Habits)',\n",
       " '虛擬運動全面席捲全國 (The Newest Virtual Sport Sweeping the Nation | The Daily Show)',\n",
       " '型男大廚 Curtis Stone 教你煎出完美又香噴噴的蛋！ (How to fry the perfect eggs with Curtis Stone)',\n",
       " '超巨大！坐上纜車前往香港大嶼山看佛像！ (Lantau Island and Giant Buddha Day Trip from Hong Kong)',\n",
       " '托福閱讀技巧：重點摘要、表格填寫 (TOEFL Reading Questions - Prose Summary and Fill in a Table)',\n",
       " '洗衣機真的有好好洗嗎？小心進去出不來！(What If You Were Trapped Inside A Washing Machine?)',\n",
       " \"川普認可以色列武力奪取戈蘭高地！？台灣其實應該擔憂 ... (Trump recognises Israel's sovereignty over Golan Heights)\",\n",
       " \"【飛天小女警】泡泡的神秘新寵物！？The Powerpuff Girls | Bubbles' Secret Pet | Cartoon Network\",\n",
       " '你會幾種語言？雙語腦的好處有這些！ (The Benefits of a Bilingual Brain)',\n",
       " '寫購物清單可以省錢？快速存錢的小技巧 (HOW TO SAVE MONEY FAST - 5 TIPS FOR SAVING MONEY)']"
      ]
     },
     "execution_count": 3,
     "metadata": {},
     "output_type": "execute_result"
    }
   ],
   "source": [
    "li=driver.find_elements_by_xpath('//*[@id=\"new_1\"]/ul/li')\n",
    "hidden_text=[]\n",
    "for i in range(len(li)):\n",
    "    link= driver.find_element_by_xpath(\"//*[@id='new_1']/ul/li[\"+str(i+1)+\"]/div/div[2]/h5/a\")\n",
    "    action=ActionChains(driver)\n",
    "    action.move_to_element(link).perform()\n",
    "    caption=driver.find_elements_by_xpath(\"//*[@id='new_1']/ul/li[\"+str(i+1)+\"]/div/div[2]/div\")\n",
    "    for j in range(len(caption)):\n",
    "        if caption[j].get_attribute(name='class')=='tooltip fade top in':\n",
    "            hidden_text.append(caption[j].text)\n",
    "hidden_text"
   ]
  }
 ],
 "metadata": {
  "kernelspec": {
   "display_name": "Python 3",
   "language": "python",
   "name": "python3"
  },
  "language_info": {
   "codemirror_mode": {
    "name": "ipython",
    "version": 3
   },
   "file_extension": ".py",
   "mimetype": "text/x-python",
   "name": "python",
   "nbconvert_exporter": "python",
   "pygments_lexer": "ipython3",
   "version": "3.6.5"
  }
 },
 "nbformat": 4,
 "nbformat_minor": 2
}
